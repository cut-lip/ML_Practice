{
  "nbformat": 4,
  "nbformat_minor": 0,
  "metadata": {
    "colab": {
      "provenance": [],
      "collapsed_sections": [],
      "authorship_tag": "ABX9TyP1vB0K2AVhvaHqpyKmkhXo",
      "include_colab_link": true
    },
    "kernelspec": {
      "name": "python3",
      "display_name": "Python 3"
    },
    "language_info": {
      "name": "python"
    }
  },
  "cells": [
    {
      "cell_type": "markdown",
      "metadata": {
        "id": "view-in-github",
        "colab_type": "text"
      },
      "source": [
        "<a href=\"https://colab.research.google.com/github/cut-lip/ML_Practice/blob/main/NumpyPrac.ipynb\" target=\"_parent\"><img src=\"https://colab.research.google.com/assets/colab-badge.svg\" alt=\"Open In Colab\"/></a>"
      ]
    },
    {
      "cell_type": "code",
      "execution_count": 1,
      "metadata": {
        "id": "Ht6OThzb3rBy"
      },
      "outputs": [],
      "source": [
        "import numpy as np"
      ]
    },
    {
      "cell_type": "markdown",
      "source": [
        "#### We can  use the `np.array()` method to construct and initialize a NumPy array with the given values. We may print the array with the `print()` method."
      ],
      "metadata": {
        "id": "s8FPUEcT31BP"
      }
    },
    {
      "cell_type": "code",
      "source": [
        "one_dimensional_array = np.array([1.2, 2.4, 3.5, 4.7, 6.1, 7.2, 8.3, 9.5])\n",
        "print(one_dimensional_array)"
      ],
      "metadata": {
        "colab": {
          "base_uri": "https://localhost:8080/"
        },
        "id": "Yf7bBKAu3zRg",
        "outputId": "807df6eb-6055-4cef-85a0-10e5f7929e63"
      },
      "execution_count": 3,
      "outputs": [
        {
          "output_type": "stream",
          "name": "stdout",
          "text": [
            "[1.2 2.4 3.5 4.7 6.1 7.2 8.3 9.5]\n"
          ]
        }
      ]
    },
    {
      "cell_type": "markdown",
      "source": [
        "####The `np.array()` method works for 2-D arrays as well, by including inner sets of square brackets."
      ],
      "metadata": {
        "id": "Z6WXISrt4b1_"
      }
    },
    {
      "cell_type": "code",
      "source": [
        "two_dimensional_array = np.array([ [6, 5], [11, 7], [4, 8] ])\n",
        "print(two_dimensional_array)"
      ],
      "metadata": {
        "colab": {
          "base_uri": "https://localhost:8080/"
        },
        "id": "MCB50hdS4hGx",
        "outputId": "1ff96cd4-a3ae-48a1-e042-68dfdf180585"
      },
      "execution_count": 4,
      "outputs": [
        {
          "output_type": "stream",
          "name": "stdout",
          "text": [
            "[[ 6  5]\n",
            " [11  7]\n",
            " [ 4  8]]\n"
          ]
        }
      ]
    },
    {
      "cell_type": "markdown",
      "source": [
        "####The methods `np.zeros` and `np.ones` may be used to fill a NumPy array with zeros or ones. The 'shape' parameter must be specified as the dimensions of the array (single number for length if one dimensional."
      ],
      "metadata": {
        "id": "Ln1GwvPx5BqD"
      }
    },
    {
      "cell_type": "code",
      "source": [
        "zero_array = np.zeros(5)\n",
        "print(zero_array)"
      ],
      "metadata": {
        "colab": {
          "base_uri": "https://localhost:8080/"
        },
        "id": "RtT8gxkL49CP",
        "outputId": "e1ad7171-ac1c-488a-9509-b950d2f13378"
      },
      "execution_count": 5,
      "outputs": [
        {
          "output_type": "stream",
          "name": "stdout",
          "text": [
            "[0. 0. 0. 0. 0.]\n"
          ]
        }
      ]
    },
    {
      "cell_type": "markdown",
      "source": [
        "####Using `np.arange` (note: a-range), a NumPy array may be initialized from a given range (exclusive) as follows:"
      ],
      "metadata": {
        "id": "mbaPgExv5jD4"
      }
    },
    {
      "cell_type": "code",
      "source": [
        "integer_sequence = np.arange(7, 17)\n",
        "print(integer_sequence)"
      ],
      "metadata": {
        "colab": {
          "base_uri": "https://localhost:8080/"
        },
        "id": "TJCib-1u6B5g",
        "outputId": "0c52952a-d3b2-4a3b-8f01-50e218040517"
      },
      "execution_count": 6,
      "outputs": [
        {
          "output_type": "stream",
          "name": "stdout",
          "text": [
            "[ 7  8  9 10 11 12 13 14 15 16]\n"
          ]
        }
      ]
    },
    {
      "cell_type": "markdown",
      "source": [
        "####An array may be populated with random numbers using various functions, including `np.random.randint`. This function generates an array of the given `size` with random integers generated between the `low` and `high`, exclusive."
      ],
      "metadata": {
        "id": "mR383BA46ZRH"
      }
    },
    {
      "cell_type": "code",
      "source": [
        "random_integer_array = np.random.randint(low = 25, high = 101, size = 12)\n",
        "print(random_integer_array)"
      ],
      "metadata": {
        "colab": {
          "base_uri": "https://localhost:8080/"
        },
        "id": "PWZtR_AC6jII",
        "outputId": "d53a2acf-32d1-4a07-d821-9fbad1161341"
      },
      "execution_count": 6,
      "outputs": [
        {
          "output_type": "stream",
          "name": "stdout",
          "text": [
            "[88 57 91 60 92 75 58 70 30 91 91 91]\n"
          ]
        }
      ]
    },
    {
      "cell_type": "markdown",
      "source": [
        "####For an array containing random double values between 0.0 and 1.0, `np.random.random` may be used with a given size."
      ],
      "metadata": {
        "id": "qJfi6EGMCCdC"
      }
    },
    {
      "cell_type": "code",
      "source": [
        "random_floats_between_0_and_1 = np.random.random([10])\n",
        "print(random_floats_between_0_and_1)"
      ],
      "metadata": {
        "colab": {
          "base_uri": "https://localhost:8080/"
        },
        "id": "u4pXOUFiCYXB",
        "outputId": "bb75a0d8-1ed5-4543-c760-d259e74e91bd"
      },
      "execution_count": 4,
      "outputs": [
        {
          "output_type": "stream",
          "name": "stdout",
          "text": [
            "[0.35154047 0.19502464 0.02811673 0.95652745 0.93168071 0.06631174\n",
            " 0.38727885 0.69341327 0.50092401 0.73936536]\n"
          ]
        }
      ]
    },
    {
      "cell_type": "markdown",
      "source": [
        "In NumPy, we have the ability to expand the dimensions of a given matrix in order to make at compatible for matrix arithmetic with another matrix. This feat can be accomplished through the automatic NumPy feature called broadcasting, which will expand a given operand to the required dimensions for the given matrix calculation. In the example below, the constant 2.0 is broadcasted to have the same dimensions as the matrix from the previous example."
      ],
      "metadata": {
        "id": "STVJzvQ0KqpT"
      }
    },
    {
      "cell_type": "code",
      "source": [
        "random_floats_between_2_and_3 = random_floats_between_0_and_1 + 2.0\n",
        "print(random_floats_between_2_and_3)"
      ],
      "metadata": {
        "colab": {
          "base_uri": "https://localhost:8080/"
        },
        "id": "L0WUkweOB_SW",
        "outputId": "dbd2d975-337f-4d10-fd84-be5d71fe50d2"
      },
      "execution_count": 4,
      "outputs": [
        {
          "output_type": "stream",
          "name": "stdout",
          "text": [
            "[2.09281251 2.10981598 2.60948858 2.70391663 2.89111536 2.10869051\n",
            " 2.65549045 2.22619938 2.74011631 2.87494634]\n"
          ]
        }
      ]
    },
    {
      "cell_type": "markdown",
      "source": [
        "Broadcasting may also be done in the context of multiplication operations on matrices, as show below where the constant 3.0 is broadcasted."
      ],
      "metadata": {
        "id": "3lISilqNLrXz"
      }
    },
    {
      "cell_type": "code",
      "source": [
        "random_integer_array_times_3 = random_integer_array * 3\n",
        "print(random_integer_array_times_3)"
      ],
      "metadata": {
        "colab": {
          "base_uri": "https://localhost:8080/"
        },
        "id": "Rdtkml84L-lK",
        "outputId": "0886e5c6-5dbb-4b46-e58f-c0742e0353e6"
      },
      "execution_count": 8,
      "outputs": [
        {
          "output_type": "stream",
          "name": "stdout",
          "text": [
            "[264 171 273 180 276 225 174 210  90 273 273 273]\n"
          ]
        }
      ]
    },
    {
      "cell_type": "markdown",
      "source": [
        "##Okay. Lets go about creating a linear dataset using NumPy functionality. This dataset consists of single-Dimensional labeled data."
      ],
      "metadata": {
        "id": "h0rQxG96MX8w"
      }
    },
    {
      "cell_type": "code",
      "source": [
        "# Create a NumPy array containing the range of integers from 6 to 20, inclusive\n",
        "feature = np.arange(6, 21)\n",
        "print(feature)"
      ],
      "metadata": {
        "colab": {
          "base_uri": "https://localhost:8080/"
        },
        "id": "G2UTbdy-cJep",
        "outputId": "afa27743-3868-4c8a-ce03-73eca9a627a9"
      },
      "execution_count": 2,
      "outputs": [
        {
          "output_type": "stream",
          "name": "stdout",
          "text": [
            "[ 6  7  8  9 10 11 12 13 14 15 16 17 18 19 20]\n"
          ]
        }
      ]
    },
    {
      "cell_type": "code",
      "source": [
        "# Create a NumPy array containing labels for the feature array\n",
        "# Base label format on this expression: label = (3) feature + 4\n",
        "# Broadcasting allows us to use constands with our matrix arithmetic\n",
        "label = (feature * 3) + 4\n",
        "print(label)"
      ],
      "metadata": {
        "colab": {
          "base_uri": "https://localhost:8080/"
        },
        "id": "MW3fzimOc_YV",
        "outputId": "19394a62-42cc-480f-9f13-7438c8590f5e"
      },
      "execution_count": 3,
      "outputs": [
        {
          "output_type": "stream",
          "name": "stdout",
          "text": [
            "[22 25 28 31 34 37 40 43 46 49 52 55 58 61 64]\n"
          ]
        }
      ]
    },
    {
      "cell_type": "markdown",
      "source": [
        "#Lets now practice adding some noise to the dataset, in order to simulate a real dataset more closely. For this simulation, we will add random floating-point values between -2 and +2 to our data."
      ],
      "metadata": {
        "id": "aWtxFs8IdKgZ"
      }
    },
    {
      "cell_type": "code",
      "source": [
        "noise = np.random.random( [15] * 4) - 2\n",
        "print(noise)"
      ],
      "metadata": {
        "colab": {
          "base_uri": "https://localhost:8080/"
        },
        "id": "qyF1ppDndJvN",
        "outputId": "f250562c-390a-47d4-83bb-40e0d00b8c27"
      },
      "execution_count": 5,
      "outputs": [
        {
          "output_type": "stream",
          "name": "stdout",
          "text": [
            "[ 1.10719502 -1.21092298  1.50958659 -1.80561711 -0.93957542  1.14727974\n",
            "  0.24723305 -0.89262266  1.80627415  0.60062643  1.86546585  1.82316688\n",
            " -0.0651133  -0.69663044 -1.61894418]\n"
          ]
        }
      ]
    },
    {
      "cell_type": "code",
      "source": [
        "label = label + noise\n",
        "print(label)"
      ],
      "metadata": {
        "colab": {
          "base_uri": "https://localhost:8080/"
        },
        "id": "uAuFKi19exPY",
        "outputId": "1d561749-ddce-4ab6-bf86-caf29936d3ea"
      },
      "execution_count": 6,
      "outputs": [
        {
          "output_type": "stream",
          "name": "stdout",
          "text": [
            "[23.10719502 23.78907702 29.50958659 29.19438289 33.06042458 38.14727974\n",
            " 40.24723305 42.10737734 47.80627415 49.60062643 53.86546585 56.82316688\n",
            " 57.9348867  60.30336956 62.38105582]\n"
          ]
        }
      ]
    }
  ]
}